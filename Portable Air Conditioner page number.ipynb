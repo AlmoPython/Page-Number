{
 "cells": [
  {
   "cell_type": "code",
   "execution_count": 143,
   "metadata": {},
   "outputs": [],
   "source": [
    "import pandas as pd\n",
    "import requests  # 导入requests\n",
    "from bs4 import BeautifulSoup  # 从bs4中导入BeautifulSoup\n",
    "import urllib.parse as urlparse"
   ]
  },
  {
   "cell_type": "code",
   "execution_count": 144,
   "metadata": {},
   "outputs": [],
   "source": [
    "page = {}"
   ]
  },
  {
   "cell_type": "code",
   "execution_count": 145,
   "metadata": {},
   "outputs": [],
   "source": [
    "list_deh = ['B07SPY3G76',\n",
    "'B07SPY6J71',\n",
    "'B07SNGHB2G',\n",
    "'B07SPY57ZB',\n",
    "'B0725Q6HKK',\n",
    "'B07QH1WF5C',\n",
    "'B071Z83TLC',\n",
    "'B07QDSXKY7',\n",
    "'B0719JSRM9',\n",
    "'B07QK89BXS',\n",
    "'B071LGDYF8',\n",
    "'B07QDT2214',\n",
    "'B07289LXJN',\n",
    "'B07QDT1VVG',\n",
    "'B071VSV2Q3',\n",
    "'B07QKP8BYM',\n",
    "'B06ZZ5GQWS',\n",
    "'B07PW9D362',\n",
    "'B071Y6FV88',\n",
    "'B07PXGRNTY',\n",
    "'B06ZZZY74N',\n",
    "'B07PZQ5MD1',\n",
    "'B06ZZQJL1T',\n",
    "'B07Q1QR8K2',\n",
    "'B07BBTVHV4',\n",
    "'B07PYLMTYG',\n",
    "'B07CYHH2NS',\n",
    "'B07PVKR925',\n",
    "'B01CS3J4MG',\n",
    "'B01CS3J570',\n",
    "'B01CS3J55W',\n",
    "'B01CS3JEI0',\n",
    "'B01CS3J9SA',\n",
    "'B01CS3JJ8K',\n",
    "'B01CS3JJ62',\n",
    "'B01CS3JJ5I',\n",
    "'B01CS3JJD0',\n",
    "'B01CS3JISQ',\n",
    "'B008UHWUY4',\n",
    "'B00J5U8P4E',\n",
    "'B07TXSSMVL',\n",
    "'B00B2BTAV6',\n",
    "'B07TYT52WG',\n",
    "'B008UHXLGA',\n",
    "'B00J5U8MWE',\n",
    "'B00J5U8O86',\n",
    "'B07VDD38SN',\n",
    "'B07T991XY2',\n",
    "'B07TFKK76K',\n",
    "'B07T991MWJ',\n",
    "'B07TB9YXSX',\n",
    "'B079RH3G8Y',\n",
    "'B078W54RDC',\n",
    "'B07C73PQ53',\n",
    "'B07C76PV28',\n",
    "'B06XCG8R19',\n",
    "'B06XCL3ZYS',\n",
    "'B07DNF5LYD',\n",
    "'B07DND2Q2R',\n",
    "'B01CDFES8E',\n",
    "'B07DNDJF7M',\n",
    "'B07DNDXN67',\n",
    "'B06XCSDVDJ',\n",
    "'B00IJYGPZ8',\n",
    "'B01CDFET8S',\n",
    "'B07DNCZX14',\n",
    "'B07DNFKD4Q',\n",
    "'B06XBF75QJ',\n",
    "'B06XBF9KJQ',\n",
    "'B06X9W64T9',\n",
    "'B06XBCN3QY',\n",
    "'B06XB236KM',\n",
    "'B07NC2QM6V',\n",
    "'B07X5FC7MG',\n",
    "'B07X4BC2KN',\n",
    "'B07JVQQK9Y',\n",
    "'B07J4XYMDX',\n",
    "'B07J4XYKWK',\n",
    "'B07J55FGKX',\n",
    "'B06XPZJSCM',\n",
    "'B06XQMMHNG',\n",
    "'B06XQCTSSX',\n",
    "'B06XQBNFQL',\n",
    "'B0746MF2Z7',\n",
    "'B07PPHSB5W',\n",
    "'B0746MMW1Z',\n",
    "'B07S8XH2ZL',\n",
    "'B0746MWPHG',\n",
    "'B07S7FWJGY',\n",
    "'B0746MMW1Y',\n",
    "'B07QK1G1VT',\n",
    "'B01DXKYXUG',\n",
    "'B07TFKSJ1Q',\n",
    "'B01DXKYY8W',\n",
    "'B07TCCCCLG',\n",
    "'B01DXKYYFU',\n",
    "'B07T85QGR9'\n",
    "]"
   ]
  },
  {
   "cell_type": "code",
   "execution_count": 167,
   "metadata": {},
   "outputs": [],
   "source": [
    "link = \"https://www.amazon.com/s?k=Portable+Air+Conditioner&ref=nb_sb_noss_2\"\n",
    "headers = {'User-Agent': 'Mozilla/5.0 (Windows NT 10.0; Win64; x64) AppleWebKit/537.36 (KHTML, like Gecko) Chrome/79.0.3945.117 Safari/537.36'}\n",
    "response = requests.get(link, headers=headers)\n",
    "\n",
    "soup = BeautifulSoup(response.text, \"lxml\")\n",
    "result_list = soup.find_all('div', {'class' : 's-result-list s-search-results sg-row'})\n",
    "\n",
    "\n",
    "asin_1 = []\n",
    "for div in result_list[0].select('div[data-asin]'):\n",
    "    asin_1.append(div['data-asin'])\n",
    "\n",
    "    \n",
    "for i in list_deh:\n",
    "    if i in asin_1:\n",
    "        page.update({i : '1'})\n"
   ]
  },
  {
   "cell_type": "code",
   "execution_count": 168,
   "metadata": {},
   "outputs": [
    {
     "data": {
      "text/plain": [
       "['B07D8TWJ2T',\n",
       " 'B06W54K29J',\n",
       " 'B01DLPUWL2',\n",
       " '',\n",
       " 'B07DQSNMWX',\n",
       " 'B00CSGGUUS',\n",
       " 'B07TLZWH92',\n",
       " '',\n",
       " 'B07D8TWJ2T',\n",
       " 'B07B821MZ7',\n",
       " 'B07K8H8ZWZ',\n",
       " 'B0028AYQDC',\n",
       " 'B07YGT76J4',\n",
       " 'B07PGDJY7S',\n",
       " 'B077VF6QXK',\n",
       " 'B01DLPUWG2',\n",
       " 'B07SGYGCLX',\n",
       " 'B0814173MZ',\n",
       " 'B002W87P9C',\n",
       " 'B07RWC9L78',\n",
       " 'B01DLPUWJ4',\n",
       " 'B078W54RDC',\n",
       " 'B0028AYQDC',\n",
       " 'B07GBV8KCB']"
      ]
     },
     "execution_count": 168,
     "metadata": {},
     "output_type": "execute_result"
    }
   ],
   "source": [
    "asin_1"
   ]
  },
  {
   "cell_type": "code",
   "execution_count": 148,
   "metadata": {},
   "outputs": [],
   "source": [
    "\n",
    "link = \"https://www.amazon.com/s?k=Portable+Air+Conditioner&page=2\"\n",
    "headers = {'User-Agent': 'Mozilla/5.0 (Windows NT 10.0; Win64; x64) AppleWebKit/537.36 (KHTML, like Gecko) Chrome/79.0.3945.117 Safari/537.36'}\n",
    "response = requests.get(link, headers=headers)\n",
    "\n",
    "soup = BeautifulSoup(response.text, \"lxml\")\n",
    "result_list = soup.find('div', {'class' : 's-result-list s-search-results sg-row'}).find_all(\"div\")\n",
    "\n",
    "\n",
    "asin_2 = []\n",
    "for div in soup.select('div[data-asin]'):\n",
    "    asin_2.append(div['data-asin'])\n",
    "\n",
    "    \n",
    "for i in list_deh:\n",
    "    if i in asin_2:\n",
    "        page.update({i : '2'})"
   ]
  },
  {
   "cell_type": "code",
   "execution_count": 132,
   "metadata": {},
   "outputs": [],
   "source": [
    "\n",
    "link = \"https://www.amazon.com/s?k=Portable+Air+Conditioner&page=3\"\n",
    "headers = {'User-Agent': 'Mozilla/5.0 (Windows NT 10.0; Win64; x64) AppleWebKit/537.36 (KHTML, like Gecko) Chrome/79.0.3945.117 Safari/537.36'}\n",
    "response = requests.get(link, headers=headers)\n",
    "\n",
    "soup = BeautifulSoup(response.text, \"lxml\")\n",
    "result_list = soup.find('div', {'class' : 's-result-list s-search-results sg-row'}).find_all(\"div\")\n",
    "\n",
    "\n",
    "asin_3 = []\n",
    "for div in soup.select('div[data-asin]'):\n",
    "    asin_3.append(div['data-asin'])\n",
    "\n",
    "    \n",
    "for i in list_deh:\n",
    "    if i in asin_3:\n",
    "        page.update({i : '3'})"
   ]
  },
  {
   "cell_type": "code",
   "execution_count": 133,
   "metadata": {},
   "outputs": [],
   "source": [
    "\n",
    "link = \"https://www.amazon.com/s?k=Portable+Air+Conditioner&page=4\"\n",
    "headers = {'User-Agent': 'Mozilla/5.0 (Windows NT 10.0; Win64; x64) AppleWebKit/537.36 (KHTML, like Gecko) Chrome/79.0.3945.117 Safari/537.36'}\n",
    "response = requests.get(link, headers=headers)\n",
    "\n",
    "soup = BeautifulSoup(response.text, \"lxml\")\n",
    "result_list = soup.find('div', {'class' : 's-result-list s-search-results sg-row'}).find_all(\"div\")\n",
    "\n",
    "\n",
    "asin_4 = []\n",
    "for div in soup.select('div[data-asin]'):\n",
    "    asin_4.append(div['data-asin'])\n",
    "\n",
    "    \n",
    "for i in list_deh:\n",
    "    if i in asin_4:\n",
    "        page.update({i : '4'})"
   ]
  },
  {
   "cell_type": "code",
   "execution_count": 134,
   "metadata": {},
   "outputs": [],
   "source": [
    "\n",
    "link = \"https://www.amazon.com/s?k=Portable+Air+Conditioner&page=5\"\n",
    "headers = {'User-Agent': 'Mozilla/5.0 (Windows NT 10.0; Win64; x64) AppleWebKit/537.36 (KHTML, like Gecko) Chrome/79.0.3945.117 Safari/537.36'}\n",
    "response = requests.get(link, headers=headers)\n",
    "\n",
    "soup = BeautifulSoup(response.text, \"lxml\")\n",
    "result_list = soup.find('div', {'class' : 's-result-list s-search-results sg-row'}).find_all(\"div\")\n",
    "\n",
    "\n",
    "asin_5 = []\n",
    "for div in soup.select('div[data-asin]'):\n",
    "    asin_5.append(div['data-asin'])\n",
    "\n",
    "    \n",
    "for i in list_deh:\n",
    "    if i in asin_5:\n",
    "        page.update({i : '5'})"
   ]
  },
  {
   "cell_type": "code",
   "execution_count": 135,
   "metadata": {},
   "outputs": [
    {
     "data": {
      "text/plain": [
       "['B07MRLTCS3',\n",
       " 'B07MHGVBLS',\n",
       " 'B07MDW3DLP',\n",
       " 'B07SFLLNY1',\n",
       " 'B07VGLVSQG',\n",
       " 'B07T1CV4FL',\n",
       " 'B07KCGWB9N',\n",
       " 'B07R9J3N4M',\n",
       " 'B01DLPUWGW',\n",
       " 'B07XNTDGLD',\n",
       " 'B07V5C19N2',\n",
       " 'B07XTNXBQ5',\n",
       " 'B01N3K3K9T',\n",
       " 'B07S7ZQGYM',\n",
       " 'B07HT1T2DD',\n",
       " 'B07SHS9GNV',\n",
       " 'B07K8F1VWK',\n",
       " 'B07SPY6J71',\n",
       " 'B07N6Q9JB1',\n",
       " 'B07GHZRQ29',\n",
       " 'B0725VMPYD',\n",
       " 'B07TC71SPP',\n",
       " 'B07VYPBN23',\n",
       " 'B07453C597',\n",
       " 'B07GBW96HC']"
      ]
     },
     "execution_count": 135,
     "metadata": {},
     "output_type": "execute_result"
    }
   ],
   "source": [
    "asin_5"
   ]
  },
  {
   "cell_type": "code",
   "execution_count": 136,
   "metadata": {},
   "outputs": [],
   "source": [
    "\n",
    "link = \"https://www.amazon.com/s?k=Portable+Air+Conditioner&page=6\"\n",
    "headers = {'User-Agent': 'Mozilla/5.0 (Windows NT 10.0; Win64; x64) AppleWebKit/537.36 (KHTML, like Gecko) Chrome/79.0.3945.117 Safari/537.36'}\n",
    "response = requests.get(link, headers=headers)\n",
    "\n",
    "soup = BeautifulSoup(response.text, \"lxml\")\n",
    "result_list = soup.find('div', {'class' : 's-result-list s-search-results sg-row'}).find_all(\"div\")\n",
    "\n",
    "\n",
    "asin_6 = []\n",
    "for div in soup.select('div[data-asin]'):\n",
    "    asin_6.append(div['data-asin'])\n",
    "\n",
    "    \n",
    "for i in list_deh:\n",
    "    if i in asin_6:\n",
    "        page.update({i : '6'})"
   ]
  },
  {
   "cell_type": "code",
   "execution_count": 137,
   "metadata": {},
   "outputs": [
    {
     "data": {
      "text/plain": [
       "['B07MRLTCS3',\n",
       " 'B07MHGVBLS',\n",
       " 'B07MDW3DLP',\n",
       " 'B07SFLLNY1',\n",
       " 'B07VGLVSQG',\n",
       " 'B07W6WSG93',\n",
       " 'B07W6MBSM9',\n",
       " 'B07H9X7NX9',\n",
       " 'B06XB236KM',\n",
       " 'B07XK14X57',\n",
       " 'B07RY5RT5N',\n",
       " 'B01CS3JJ5I',\n",
       " 'B015P2HKJ6',\n",
       " 'B07S7ZQGYM',\n",
       " 'B07453C597',\n",
       " 'B07MQG6H7Q',\n",
       " 'B07SFLLNY1',\n",
       " 'B07QZDGS95',\n",
       " 'B006PFIA6U',\n",
       " 'B071ZWHSBP',\n",
       " 'B07RBBV1D2',\n",
       " 'B07KCB7546',\n",
       " 'B07B6CPQZK',\n",
       " 'B07HT1T2DD',\n",
       " 'B07GBW96HC']"
      ]
     },
     "execution_count": 137,
     "metadata": {},
     "output_type": "execute_result"
    }
   ],
   "source": [
    "asin_6"
   ]
  },
  {
   "cell_type": "code",
   "execution_count": 138,
   "metadata": {},
   "outputs": [],
   "source": [
    "\n",
    "link = \"https://www.amazon.com/s?k=Portable+Air+Conditioner&page=7\"\n",
    "headers = {'User-Agent': 'Mozilla/5.0 (Windows NT 10.0; Win64; x64) AppleWebKit/537.36 (KHTML, like Gecko) Chrome/79.0.3945.117 Safari/537.36'}\n",
    "response = requests.get(link, headers=headers)\n",
    "\n",
    "soup = BeautifulSoup(response.text, \"lxml\")\n",
    "result_list = soup.find('div', {'class' : 's-result-list s-search-results sg-row'}).find_all(\"div\")\n",
    "\n",
    "\n",
    "asin_7 = []\n",
    "for div in soup.select('div[data-asin]'):\n",
    "    asin_7.append(div['data-asin'])\n",
    "\n",
    "    \n",
    "for i in list_deh:\n",
    "    if i in asin_7:\n",
    "        page.update({i : '7'})"
   ]
  },
  {
   "cell_type": "code",
   "execution_count": 139,
   "metadata": {},
   "outputs": [],
   "source": [
    "\n",
    "link = \"https://www.amazon.com/s?k=Portable+Air+Conditioner&page=8\"\n",
    "headers = {'User-Agent': 'Mozilla/5.0 (Windows NT 10.0; Win64; x64) AppleWebKit/537.36 (KHTML, like Gecko) Chrome/79.0.3945.117 Safari/537.36'}\n",
    "response = requests.get(link, headers=headers)\n",
    "\n",
    "soup = BeautifulSoup(response.text, \"lxml\")\n",
    "result_list = soup.find('div', {'class' : 's-result-list s-search-results sg-row'}).find_all(\"div\")\n",
    "\n",
    "\n",
    "asin_8 = []\n",
    "for div in soup.select('div[data-asin]'):\n",
    "    asin_8.append(div['data-asin'])\n",
    "\n",
    "    \n",
    "for i in list_deh:\n",
    "    if i in asin_8:\n",
    "        page.update({i : '8'})"
   ]
  },
  {
   "cell_type": "code",
   "execution_count": 140,
   "metadata": {},
   "outputs": [],
   "source": [
    "\n",
    "link = \"https://www.amazon.com/s?k=Portable+Air+Conditioner&page=9\"\n",
    "headers = {'User-Agent': 'Mozilla/5.0 (Windows NT 10.0; Win64; x64) AppleWebKit/537.36 (KHTML, like Gecko) Chrome/79.0.3945.117 Safari/537.36'}\n",
    "response = requests.get(link, headers=headers)\n",
    "\n",
    "soup = BeautifulSoup(response.text, \"lxml\")\n",
    "result_list = soup.find('div', {'class' : 's-result-list s-search-results sg-row'}).find_all(\"div\")\n",
    "\n",
    "\n",
    "asin_9 = []\n",
    "for div in soup.select('div[data-asin]'):\n",
    "    asin_9.append(div['data-asin'])\n",
    "\n",
    "    \n",
    "for i in list_deh:\n",
    "    if i in asin_9:\n",
    "        page.update({i : '9'})"
   ]
  },
  {
   "cell_type": "code",
   "execution_count": 141,
   "metadata": {},
   "outputs": [],
   "source": [
    "\n",
    "link = \"https://www.amazon.com/s?k=Portable+Air+Conditioner&page=10\"\n",
    "headers = {'User-Agent': 'Mozilla/5.0 (Windows NT 10.0; Win64; x64) AppleWebKit/537.36 (KHTML, like Gecko) Chrome/79.0.3945.117 Safari/537.36'}\n",
    "response = requests.get(link, headers=headers)\n",
    "\n",
    "soup = BeautifulSoup(response.text, \"lxml\")\n",
    "result_list = soup.find('div', {'class' : 's-result-list s-search-results sg-row'}).find_all(\"div\")\n",
    "\n",
    "\n",
    "asin_10 = []\n",
    "for div in soup.select('div[data-asin]'):\n",
    "    asin_10.append(div['data-asin'])\n",
    "\n",
    "    \n",
    "for i in list_deh:\n",
    "    if i in asin_10:\n",
    "        page.update({i : '10'})"
   ]
  },
  {
   "cell_type": "code",
   "execution_count": 142,
   "metadata": {},
   "outputs": [
    {
     "data": {
      "text/plain": [
       "{'B078W54RDC': '1',\n",
       " 'B008UHXLGA': '2',\n",
       " 'B06XBCN3QY': '2',\n",
       " 'B07NC2QM6V': '3',\n",
       " 'B07SPY6J71': '5',\n",
       " 'B01CS3JJ5I': '6',\n",
       " 'B06XB236KM': '6',\n",
       " 'B06ZZQJL1T': '7',\n",
       " 'B01CS3JISQ': '10',\n",
       " 'B00IJYGPZ8': '10'}"
      ]
     },
     "execution_count": 142,
     "metadata": {},
     "output_type": "execute_result"
    }
   ],
   "source": [
    "page"
   ]
  },
  {
   "cell_type": "code",
   "execution_count": null,
   "metadata": {},
   "outputs": [],
   "source": []
  }
 ],
 "metadata": {
  "kernelspec": {
   "display_name": "Python 3",
   "language": "python",
   "name": "python3"
  },
  "language_info": {
   "codemirror_mode": {
    "name": "ipython",
    "version": 3
   },
   "file_extension": ".py",
   "mimetype": "text/x-python",
   "name": "python",
   "nbconvert_exporter": "python",
   "pygments_lexer": "ipython3",
   "version": "3.7.4"
  }
 },
 "nbformat": 4,
 "nbformat_minor": 2
}
