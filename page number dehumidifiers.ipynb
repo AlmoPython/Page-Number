{
 "cells": [
  {
   "cell_type": "code",
   "execution_count": 1,
   "metadata": {},
   "outputs": [],
   "source": [
    "import pandas as pd\n",
    "import requests  # 导入requests\n",
    "from bs4 import BeautifulSoup  # 从bs4中导入BeautifulSoup\n",
    "import urllib.parse as urlparse"
   ]
  },
  {
   "cell_type": "code",
   "execution_count": 2,
   "metadata": {},
   "outputs": [],
   "source": [
    "page = {}"
   ]
  },
  {
   "cell_type": "code",
   "execution_count": 3,
   "metadata": {},
   "outputs": [],
   "source": [
    "list_deh = ['B00IY2O11A',\n",
    "'B00UWP07NI',\n",
    "'B00UWP07LK',\n",
    "'B06Y1M6XPT',\n",
    "'B07BZK14TT',\n",
    "'B07DNDQZSF',\n",
    "'B07DNCCJFN',\n",
    "'B07PWH59GR',\n",
    "'B07DNCHFLQ',\n",
    "'B01CILF1JI',\n",
    "'B083M6M19C',\n",
    "'B083M5WCY4',\n",
    "'B073XW2Y1R',\n",
    "'B07S6PCTJJ',\n",
    "'B073XXY97N',\n",
    "'B07K11JJH7',\n",
    "'B07Q42F7XY',\n",
    "'B07HHMQLGD',\n",
    "'B07HHP8K3H',\n",
    "'B07HHLHBLM',\n",
    "'B00JS480YC',\n",
    "'B00JS480OW'\n",
    "]\n"
   ]
  },
  {
   "cell_type": "code",
   "execution_count": 4,
   "metadata": {},
   "outputs": [],
   "source": [
    "link = \"https://www.amazon.com/s?k=dehumidifiers&ref=nb_sb_noss_1\"\n",
    "headers = {'User-Agent': 'Mozilla/5.0 (Windows NT 10.0; Win64; x64) AppleWebKit/537.36 (KHTML, like Gecko) Chrome/79.0.3945.117 Safari/537.36'}\n",
    "response = requests.get(link, headers=headers)\n",
    "\n",
    "soup = BeautifulSoup(response.text, \"lxml\")\n",
    "result_list = soup.find('div', {'class' : 's-result-list s-search-results sg-row'}).find_all(\"div\")\n",
    "\n",
    "\n",
    "asin_1 = []\n",
    "for div in soup.select('div[data-asin]'):\n",
    "    asin_1.append(div['data-asin'])\n",
    "\n",
    "    \n",
    "for i in list_deh:\n",
    "    if i in asin_1:\n",
    "        page.update({i : '1'})"
   ]
  },
  {
   "cell_type": "code",
   "execution_count": 5,
   "metadata": {},
   "outputs": [],
   "source": [
    "link = \"https://www.amazon.com/s?k=dehumidifiers&page=2\"\n",
    "headers = {'User-Agent': 'Mozilla/5.0 (Windows NT 10.0; Win64; x64) AppleWebKit/537.36 (KHTML, like Gecko) Chrome/79.0.3945.117 Safari/537.36'}\n",
    "response = requests.get(link, headers=headers)\n",
    "\n",
    "soup = BeautifulSoup(response.text, \"lxml\")\n",
    "result_list = soup.find('div', {'class' : 's-result-list s-search-results sg-row'}).find_all(\"div\")\n",
    "\n",
    "\n",
    "asin_2 = []\n",
    "for div in soup.select('div[data-asin]'):\n",
    "    asin_2.append(div['data-asin'])\n",
    "\n",
    "    \n",
    "for i in list_deh:\n",
    "    if i in asin_2:\n",
    "        page.update({i : '2'})"
   ]
  },
  {
   "cell_type": "code",
   "execution_count": 6,
   "metadata": {},
   "outputs": [],
   "source": [
    "link = \"https://www.amazon.com/s?k=dehumidifiers&page=3\"\n",
    "headers = {'User-Agent': 'Mozilla/5.0 (Windows NT 10.0; Win64; x64) AppleWebKit/537.36 (KHTML, like Gecko) Chrome/79.0.3945.117 Safari/537.36'}\n",
    "response = requests.get(link, headers=headers)\n",
    "\n",
    "soup = BeautifulSoup(response.text, \"lxml\")\n",
    "result_list = soup.find('div', {'class' : 's-result-list s-search-results sg-row'}).find_all(\"div\")\n",
    "\n",
    "\n",
    "asin_3 = []\n",
    "for div in soup.select('div[data-asin]'):\n",
    "    asin_3.append(div['data-asin'])\n",
    "\n",
    "    \n",
    "for i in list_deh:\n",
    "    if i in asin_3:\n",
    "        page.update({i : '3'})"
   ]
  },
  {
   "cell_type": "code",
   "execution_count": 7,
   "metadata": {},
   "outputs": [],
   "source": [
    "link = \"https://www.amazon.com/s?k=dehumidifiers&page=4\"\n",
    "headers = {'User-Agent': 'Mozilla/5.0 (Windows NT 10.0; Win64; x64) AppleWebKit/537.36 (KHTML, like Gecko) Chrome/79.0.3945.117 Safari/537.36'}\n",
    "response = requests.get(link, headers=headers)\n",
    "\n",
    "soup = BeautifulSoup(response.text, \"lxml\")\n",
    "result_list = soup.find('div', {'class' : 's-result-list s-search-results sg-row'}).find_all(\"div\")\n",
    "\n",
    "\n",
    "asin_4 = []\n",
    "for div in soup.select('div[data-asin]'):\n",
    "    asin_4.append(div['data-asin'])\n",
    "\n",
    "    \n",
    "for i in list_deh:\n",
    "    if i in asin_4:\n",
    "        page.update({i : '4'})"
   ]
  },
  {
   "cell_type": "code",
   "execution_count": 8,
   "metadata": {},
   "outputs": [],
   "source": [
    "link = \"https://www.amazon.com/s?k=dehumidifiers&page=5\"\n",
    "headers = {'User-Agent': 'Mozilla/5.0 (Windows NT 10.0; Win64; x64) AppleWebKit/537.36 (KHTML, like Gecko) Chrome/79.0.3945.117 Safari/537.36'}\n",
    "response = requests.get(link, headers=headers)\n",
    "\n",
    "soup = BeautifulSoup(response.text, \"lxml\")\n",
    "result_list = soup.find('div', {'class' : 's-result-list s-search-results sg-row'}).find_all(\"div\")\n",
    "\n",
    "\n",
    "asin_5 = []\n",
    "for div in soup.select('div[data-asin]'):\n",
    "    asin_5.append(div['data-asin'])\n",
    "\n",
    "    \n",
    "for i in list_deh:\n",
    "    if i in asin_5:\n",
    "        page.update({i : '5'})"
   ]
  },
  {
   "cell_type": "code",
   "execution_count": 9,
   "metadata": {},
   "outputs": [],
   "source": [
    "link = \"https://www.amazon.com/s?k=dehumidifiers&page=6\"\n",
    "headers = {'User-Agent': 'Mozilla/5.0 (Windows NT 10.0; Win64; x64) AppleWebKit/537.36 (KHTML, like Gecko) Chrome/79.0.3945.117 Safari/537.36'}\n",
    "response = requests.get(link, headers=headers)\n",
    "\n",
    "soup = BeautifulSoup(response.text, \"lxml\")\n",
    "result_list = soup.find('div', {'class' : 's-result-list s-search-results sg-row'}).find_all(\"div\")\n",
    "\n",
    "\n",
    "asin_6 = []\n",
    "for div in soup.select('div[data-asin]'):\n",
    "    asin_6.append(div['data-asin'])\n",
    "\n",
    "    \n",
    "for i in list_deh:\n",
    "    if i in asin_6:\n",
    "        page.update({i : '6'})"
   ]
  },
  {
   "cell_type": "code",
   "execution_count": 10,
   "metadata": {},
   "outputs": [],
   "source": [
    "link = \"https://www.amazon.com/s?k=dehumidifiers&page=7\"\n",
    "headers = {'User-Agent': 'Mozilla/5.0 (Windows NT 10.0; Win64; x64) AppleWebKit/537.36 (KHTML, like Gecko) Chrome/79.0.3945.117 Safari/537.36'}\n",
    "response = requests.get(link, headers=headers)\n",
    "\n",
    "soup = BeautifulSoup(response.text, \"lxml\")\n",
    "result_list = soup.find('div', {'class' : 's-result-list s-search-results sg-row'}).find_all(\"div\")\n",
    "\n",
    "\n",
    "asin_7 = []\n",
    "for div in soup.select('div[data-asin]'):\n",
    "    asin_7.append(div['data-asin'])\n",
    "\n",
    "    \n",
    "for i in list_deh:\n",
    "    if i in asin_7:\n",
    "        page.update({i : '7'})"
   ]
  },
  {
   "cell_type": "code",
   "execution_count": 11,
   "metadata": {},
   "outputs": [
    {
     "data": {
      "text/plain": [
       "{'B00UWP07LK': '1',\n",
       " 'B07DNCHFLQ': '2',\n",
       " 'B06Y1M6XPT': '3',\n",
       " 'B07BZK14TT': '3',\n",
       " 'B00IY2O11A': '4',\n",
       " 'B01CILF1JI': '7',\n",
       " 'B083M6M19C': '6',\n",
       " 'B00JS480OW': '6',\n",
       " 'B083M5WCY4': '7'}"
      ]
     },
     "execution_count": 11,
     "metadata": {},
     "output_type": "execute_result"
    }
   ],
   "source": [
    "page"
   ]
  },
  {
   "cell_type": "code",
   "execution_count": null,
   "metadata": {},
   "outputs": [],
   "source": []
  },
  {
   "cell_type": "code",
   "execution_count": null,
   "metadata": {},
   "outputs": [],
   "source": []
  }
 ],
 "metadata": {
  "kernelspec": {
   "display_name": "Python 3",
   "language": "python",
   "name": "python3"
  },
  "language_info": {
   "codemirror_mode": {
    "name": "ipython",
    "version": 3
   },
   "file_extension": ".py",
   "mimetype": "text/x-python",
   "name": "python",
   "nbconvert_exporter": "python",
   "pygments_lexer": "ipython3",
   "version": "3.7.4"
  }
 },
 "nbformat": 4,
 "nbformat_minor": 2
}
