{
 "cells": [
  {
   "cell_type": "code",
   "execution_count": 1,
   "metadata": {},
   "outputs": [],
   "source": [
    "import pandas as pd\n",
    "import requests  # 导入requests\n",
    "from bs4 import BeautifulSoup  # 从bs4中导入BeautifulSoup\n",
    "import urllib.parse as urlparse"
   ]
  },
  {
   "cell_type": "code",
   "execution_count": 2,
   "metadata": {},
   "outputs": [],
   "source": [
    "page = {}"
   ]
  },
  {
   "cell_type": "code",
   "execution_count": 3,
   "metadata": {},
   "outputs": [],
   "source": [
    "list_deh = ['B07R1MZ9XQ'\n",
    "'B07QYBYVZH',\n",
    "'B07QZH8RF6',\n",
    "'B07FKT5DPQ',\n",
    "'B00ILRBRQU',\n",
    "'B07QZH1N13',\n",
    "'B07R1MPS98',\n",
    "'B07QNZ34M3',\n",
    "'B008UHXR1Y',\n",
    "'B07PWHMS6P',\n",
    "'B07PWHNWY7',\n",
    "'B00IINNJQI',\n",
    "'B079W5313B',\n",
    "'B07QR72ZHZ',\n",
    "'B008UHXXBI',\n",
    "'B00L91ISJO',\n",
    "'B07SZ2MXRR',\n",
    "'B07FKQZGJ5',\n",
    "'B00IINNKRQ',\n",
    "'B07FKQB154',\n",
    "'B008UHXT0S',\n",
    "'B07QR72ZJ1',\n",
    "'B008UHXUSO',\n",
    "'B01CS2J60W',\n",
    "'B008UHXPD4',\n",
    "'B07VFKMV76',\n",
    "'B07QTVKQRX',\n",
    "'B00IINNL9I',\n",
    "'B07ZR28T5D',\n",
    "'B079TXYG57',\n",
    "'B079TWZKJY',\n",
    "'B079TT6P7B',\n",
    "'B079TWGXRH'\n",
    "]"
   ]
  },
  {
   "cell_type": "code",
   "execution_count": 4,
   "metadata": {},
   "outputs": [],
   "source": [
    "link = \"https://www.amazon.com/s?k=Evaporative+Cooler&ref=nb_sb_noss_2\"\n",
    "headers = {'User-Agent': 'Mozilla/5.0 (Windows NT 10.0; Win64; x64) AppleWebKit/537.36 (KHTML, like Gecko) Chrome/79.0.3945.117 Safari/537.36'}\n",
    "response = requests.get(link, headers=headers)\n",
    "\n",
    "soup = BeautifulSoup(response.text, \"lxml\")\n",
    "result_list = soup.find('div', {'class' : 's-result-list s-search-results sg-row'}).find_all(\"div\")\n",
    "\n",
    "\n",
    "asin_1 = []\n",
    "for div in soup.select('div[data-asin]'):\n",
    "    asin_1.append(div['data-asin'])\n",
    "\n",
    "    \n",
    "for i in list_deh:\n",
    "    if i in asin_1:\n",
    "        page.update({i : '1'})"
   ]
  },
  {
   "cell_type": "code",
   "execution_count": 5,
   "metadata": {},
   "outputs": [],
   "source": [
    "\n",
    "link = \"https://www.amazon.com/s?k=Evaporative+Cooler&page=2\"\n",
    "headers = {'User-Agent': 'Mozilla/5.0 (Windows NT 10.0; Win64; x64) AppleWebKit/537.36 (KHTML, like Gecko) Chrome/79.0.3945.117 Safari/537.36'}\n",
    "response = requests.get(link, headers=headers)\n",
    "\n",
    "soup = BeautifulSoup(response.text, \"lxml\")\n",
    "result_list = soup.find('div', {'class' : 's-result-list s-search-results sg-row'}).find_all(\"div\")\n",
    "\n",
    "\n",
    "asin_2 = []\n",
    "for div in soup.select('div[data-asin]'):\n",
    "    asin_2.append(div['data-asin'])\n",
    "\n",
    "    \n",
    "for i in list_deh:\n",
    "    if i in asin_2:\n",
    "        page.update({i : '2'})"
   ]
  },
  {
   "cell_type": "code",
   "execution_count": 6,
   "metadata": {},
   "outputs": [],
   "source": [
    "\n",
    "link = \"https://www.amazon.com/s?k=Evaporative+Cooler&page=3\"\n",
    "headers = {'User-Agent': 'Mozilla/5.0 (Windows NT 10.0; Win64; x64) AppleWebKit/537.36 (KHTML, like Gecko) Chrome/79.0.3945.117 Safari/537.36'}\n",
    "response = requests.get(link, headers=headers)\n",
    "\n",
    "soup = BeautifulSoup(response.text, \"lxml\")\n",
    "result_list = soup.find('div', {'class' : 's-result-list s-search-results sg-row'}).find_all(\"div\")\n",
    "\n",
    "\n",
    "asin_3 = []\n",
    "for div in soup.select('div[data-asin]'):\n",
    "    asin_3.append(div['data-asin'])\n",
    "\n",
    "    \n",
    "for i in list_deh:\n",
    "    if i in asin_3:\n",
    "        page.update({i : '3'})"
   ]
  },
  {
   "cell_type": "code",
   "execution_count": 7,
   "metadata": {},
   "outputs": [],
   "source": [
    "\n",
    "link = \"https://www.amazon.com/s?k=Evaporative+Cooler&page=4\"\n",
    "headers = {'User-Agent': 'Mozilla/5.0 (Windows NT 10.0; Win64; x64) AppleWebKit/537.36 (KHTML, like Gecko) Chrome/79.0.3945.117 Safari/537.36'}\n",
    "response = requests.get(link, headers=headers)\n",
    "\n",
    "soup = BeautifulSoup(response.text, \"lxml\")\n",
    "result_list = soup.find('div', {'class' : 's-result-list s-search-results sg-row'}).find_all(\"div\")\n",
    "\n",
    "\n",
    "asin_4 = []\n",
    "for div in soup.select('div[data-asin]'):\n",
    "    asin_4.append(div['data-asin'])\n",
    "\n",
    "    \n",
    "for i in list_deh:\n",
    "    if i in asin_4:\n",
    "        page.update({i : '4'})"
   ]
  },
  {
   "cell_type": "code",
   "execution_count": 8,
   "metadata": {},
   "outputs": [],
   "source": [
    "\n",
    "link = \"https://www.amazon.com/s?k=Evaporative+Cooler&page=5\"\n",
    "headers = {'User-Agent': 'Mozilla/5.0 (Windows NT 10.0; Win64; x64) AppleWebKit/537.36 (KHTML, like Gecko) Chrome/79.0.3945.117 Safari/537.36'}\n",
    "response = requests.get(link, headers=headers)\n",
    "\n",
    "soup = BeautifulSoup(response.text, \"lxml\")\n",
    "result_list = soup.find('div', {'class' : 's-result-list s-search-results sg-row'}).find_all(\"div\")\n",
    "\n",
    "\n",
    "asin_5 = []\n",
    "for div in soup.select('div[data-asin]'):\n",
    "    asin_5.append(div['data-asin'])\n",
    "\n",
    "    \n",
    "for i in list_deh:\n",
    "    if i in asin_5:\n",
    "        page.update({i : '5'})"
   ]
  },
  {
   "cell_type": "code",
   "execution_count": 9,
   "metadata": {},
   "outputs": [],
   "source": [
    "\n",
    "link = \"https://www.amazon.com/s?k=Evaporative+Cooler&page=6\"\n",
    "headers = {'User-Agent': 'Mozilla/5.0 (Windows NT 10.0; Win64; x64) AppleWebKit/537.36 (KHTML, like Gecko) Chrome/79.0.3945.117 Safari/537.36'}\n",
    "response = requests.get(link, headers=headers)\n",
    "\n",
    "soup = BeautifulSoup(response.text, \"lxml\")\n",
    "result_list = soup.find('div', {'class' : 's-result-list s-search-results sg-row'}).find_all(\"div\")\n",
    "\n",
    "\n",
    "asin_6 = []\n",
    "for div in soup.select('div[data-asin]'):\n",
    "    asin_6.append(div['data-asin'])\n",
    "\n",
    "    \n",
    "for i in list_deh:\n",
    "    if i in asin_6:\n",
    "        page.update({i : '6'})"
   ]
  },
  {
   "cell_type": "code",
   "execution_count": 10,
   "metadata": {},
   "outputs": [],
   "source": [
    "\n",
    "link = \"https://www.amazon.com/s?k=Evaporative+Cooler&page=7\"\n",
    "headers = {'User-Agent': 'Mozilla/5.0 (Windows NT 10.0; Win64; x64) AppleWebKit/537.36 (KHTML, like Gecko) Chrome/79.0.3945.117 Safari/537.36'}\n",
    "response = requests.get(link, headers=headers)\n",
    "\n",
    "soup = BeautifulSoup(response.text, \"lxml\")\n",
    "result_list = soup.find('div', {'class' : 's-result-list s-search-results sg-row'}).find_all(\"div\")\n",
    "\n",
    "\n",
    "asin_7 = []\n",
    "for div in soup.select('div[data-asin]'):\n",
    "    asin_7.append(div['data-asin'])\n",
    "\n",
    "    \n",
    "for i in list_deh:\n",
    "    if i in asin_7:\n",
    "        page.update({i : '7'})"
   ]
  },
  {
   "cell_type": "code",
   "execution_count": 11,
   "metadata": {},
   "outputs": [],
   "source": [
    "\n",
    "link = \"https://www.amazon.com/s?k=Evaporative+Cooler&page=8\"\n",
    "headers = {'User-Agent': 'Mozilla/5.0 (Windows NT 10.0; Win64; x64) AppleWebKit/537.36 (KHTML, like Gecko) Chrome/79.0.3945.117 Safari/537.36'}\n",
    "response = requests.get(link, headers=headers)\n",
    "\n",
    "soup = BeautifulSoup(response.text, \"lxml\")\n",
    "result_list = soup.find('div', {'class' : 's-result-list s-search-results sg-row'}).find_all(\"div\")\n",
    "\n",
    "\n",
    "asin_8 = []\n",
    "for div in soup.select('div[data-asin]'):\n",
    "    asin_8.append(div['data-asin'])\n",
    "\n",
    "    \n",
    "for i in list_deh:\n",
    "    if i in asin_8:\n",
    "        page.update({i : '8'})"
   ]
  },
  {
   "cell_type": "code",
   "execution_count": 12,
   "metadata": {},
   "outputs": [],
   "source": [
    "\n",
    "link = \"https://www.amazon.com/s?k=Evaporative+Cooler&page=9\"\n",
    "headers = {'User-Agent': 'Mozilla/5.0 (Windows NT 10.0; Win64; x64) AppleWebKit/537.36 (KHTML, like Gecko) Chrome/79.0.3945.117 Safari/537.36'}\n",
    "response = requests.get(link, headers=headers)\n",
    "\n",
    "soup = BeautifulSoup(response.text, \"lxml\")\n",
    "result_list = soup.find('div', {'class' : 's-result-list s-search-results sg-row'}).find_all(\"div\")\n",
    "\n",
    "\n",
    "asin_9 = []\n",
    "for div in soup.select('div[data-asin]'):\n",
    "    asin_9.append(div['data-asin'])\n",
    "\n",
    "    \n",
    "for i in list_deh:\n",
    "    if i in asin_9:\n",
    "        page.update({i : '9'})"
   ]
  },
  {
   "cell_type": "code",
   "execution_count": 13,
   "metadata": {},
   "outputs": [],
   "source": [
    "\n",
    "link = \"https://www.amazon.com/s?k=Evaporative+Cooler&page=10\"\n",
    "headers = {'User-Agent': 'Mozilla/5.0 (Windows NT 10.0; Win64; x64) AppleWebKit/537.36 (KHTML, like Gecko) Chrome/79.0.3945.117 Safari/537.36'}\n",
    "response = requests.get(link, headers=headers)\n",
    "\n",
    "soup = BeautifulSoup(response.text, \"lxml\")\n",
    "result_list = soup.find('div', {'class' : 's-result-list s-search-results sg-row'}).find_all(\"div\")\n",
    "\n",
    "\n",
    "asin_10 = []\n",
    "for div in soup.select('div[data-asin]'):\n",
    "    asin_10.append(div['data-asin'])\n",
    "\n",
    "    \n",
    "for i in list_deh:\n",
    "    if i in asin_10:\n",
    "        page.update({i : '10'})"
   ]
  },
  {
   "cell_type": "code",
   "execution_count": 14,
   "metadata": {},
   "outputs": [
    {
     "data": {
      "text/plain": [
       "{'B00ILRBRQU': '1',\n",
       " 'B008UHXR1Y': '10',\n",
       " 'B00IINNKRQ': '10',\n",
       " 'B008UHXPD4': '10',\n",
       " 'B00IINNL9I': '1',\n",
       " 'B00IINNJQI': '2',\n",
       " 'B079W5313B': '4',\n",
       " 'B079TWZKJY': '7',\n",
       " 'B079TT6P7B': '8',\n",
       " 'B079TXYG57': '10'}"
      ]
     },
     "execution_count": 14,
     "metadata": {},
     "output_type": "execute_result"
    }
   ],
   "source": [
    "page"
   ]
  },
  {
   "cell_type": "code",
   "execution_count": null,
   "metadata": {},
   "outputs": [],
   "source": []
  }
 ],
 "metadata": {
  "kernelspec": {
   "display_name": "Python 3",
   "language": "python",
   "name": "python3"
  },
  "language_info": {
   "codemirror_mode": {
    "name": "ipython",
    "version": 3
   },
   "file_extension": ".py",
   "mimetype": "text/x-python",
   "name": "python",
   "nbconvert_exporter": "python",
   "pygments_lexer": "ipython3",
   "version": "3.7.4"
  }
 },
 "nbformat": 4,
 "nbformat_minor": 2
}
